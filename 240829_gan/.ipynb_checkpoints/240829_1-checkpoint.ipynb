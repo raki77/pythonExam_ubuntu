{
 "cells": [
  {
   "cell_type": "markdown",
   "id": "7b3adbd8",
   "metadata": {},
   "source": [
    "\n",
    "# 19장 세상에 없는 얼굴 GAN, 오토인코더\n",
    "### 3. 적대적 신경망 실행하기\n",
    "\n",
    "#### 실습: GAN 모델 만들기"
   ]
  },
  {
   "cell_type": "markdown",
   "id": "8e4eca4e",
   "metadata": {},
   "source": [
    "# 이미지 특징을 추출하는 인코더"
   ]
  },
  {
   "cell_type": "code",
   "execution_count": 5,
   "id": "a6db0e2e",
   "metadata": {},
   "outputs": [],
   "source": [
    "from tensorflow.keras.datasets import mnist\n",
    "from tensorflow.keras.models import Sequential, Model\n",
    "from tensorflow.keras.layers import Input, Dense, Conv2D, MaxPooling2D, UpSampling2D, Flatten, Reshape\n",
    "import matplotlib.pyplot as plt\n",
    "import numpy as np\n"
   ]
  },
  {
   "cell_type": "code",
   "execution_count": 6,
   "id": "dd8025a3",
   "metadata": {},
   "outputs": [],
   "source": [
    "# MNIST 데이터셋을 불러옵니다.\n",
    "\n",
    "(X_train, _), (X_test, _) = mnist.load_data()\n",
    "X_train = X_train.reshape(X_train.shape[0], 28, 28, 1).astype('float32') / 255\n",
    "X_test = X_test.reshape(X_test.shape[0], 28, 28, 1).astype('float32') / 255"
   ]
  },
  {
   "cell_type": "code",
   "execution_count": 7,
   "id": "8e3fc8d3",
   "metadata": {},
   "outputs": [
    {
     "name": "stderr",
     "output_type": "stream",
     "text": [
      "2024-08-29 09:45:46.622760: I tensorflow/core/platform/cpu_feature_guard.cc:193] This TensorFlow binary is optimized with oneAPI Deep Neural Network Library (oneDNN) to use the following CPU instructions in performance-critical operations:  AVX2 AVX512F AVX512_VNNI FMA\n",
      "To enable them in other operations, rebuild TensorFlow with the appropriate compiler flags.\n",
      "2024-08-29 09:45:46.628639: I tensorflow/compiler/xla/stream_executor/cuda/cuda_gpu_executor.cc:967] could not open file to read NUMA node: /sys/bus/pci/devices/0000:01:00.0/numa_node\n",
      "Your kernel may have been built without NUMA support.\n",
      "2024-08-29 09:45:46.628871: I tensorflow/compiler/xla/stream_executor/cuda/cuda_gpu_executor.cc:967] could not open file to read NUMA node: /sys/bus/pci/devices/0000:01:00.0/numa_node\n",
      "Your kernel may have been built without NUMA support.\n",
      "2024-08-29 09:45:46.628898: I tensorflow/compiler/xla/stream_executor/cuda/cuda_gpu_executor.cc:967] could not open file to read NUMA node: /sys/bus/pci/devices/0000:01:00.0/numa_node\n",
      "Your kernel may have been built without NUMA support.\n",
      "2024-08-29 09:45:48.153574: I tensorflow/compiler/xla/stream_executor/cuda/cuda_gpu_executor.cc:967] could not open file to read NUMA node: /sys/bus/pci/devices/0000:01:00.0/numa_node\n",
      "Your kernel may have been built without NUMA support.\n",
      "2024-08-29 09:45:48.154115: I tensorflow/compiler/xla/stream_executor/cuda/cuda_gpu_executor.cc:967] could not open file to read NUMA node: /sys/bus/pci/devices/0000:01:00.0/numa_node\n",
      "Your kernel may have been built without NUMA support.\n",
      "2024-08-29 09:45:48.154141: I tensorflow/core/common_runtime/gpu/gpu_device.cc:1700] Could not identify NUMA node of platform GPU id 0, defaulting to 0.  Your kernel may not have been built with NUMA support.\n",
      "2024-08-29 09:45:48.154209: I tensorflow/compiler/xla/stream_executor/cuda/cuda_gpu_executor.cc:967] could not open file to read NUMA node: /sys/bus/pci/devices/0000:01:00.0/numa_node\n",
      "Your kernel may have been built without NUMA support.\n",
      "2024-08-29 09:45:48.154461: I tensorflow/core/common_runtime/gpu/gpu_device.cc:1613] Created device /job:localhost/replica:0/task:0/device:GPU:0 with 5463 MB memory:  -> device: 0, name: NVIDIA GeForce RTX 3060, pci bus id: 0000:01:00.0, compute capability: 8.6\n"
     ]
    }
   ],
   "source": [
    "# 생성자 모델을 만듭니다.\n",
    "autoencoder = Sequential()"
   ]
  },
  {
   "cell_type": "code",
   "execution_count": 8,
   "id": "688eb00d",
   "metadata": {},
   "outputs": [],
   "source": [
    "# 인코딩 부분입니다.\n",
    "autoencoder.add(Conv2D(16, kernel_size=3, padding='same', input_shape=(28,28,1), activation='relu'))\n",
    "autoencoder.add(MaxPooling2D(pool_size=2, padding='same'))\n",
    "autoencoder.add(Conv2D(8, kernel_size=3, activation='relu', padding='same'))\n",
    "autoencoder.add(MaxPooling2D(pool_size=2, padding='same'))\n",
    "autoencoder.add(Conv2D(8, kernel_size=3, strides=2, padding='same', activation='relu'))"
   ]
  },
  {
   "cell_type": "code",
   "execution_count": 9,
   "id": "f93ba846",
   "metadata": {},
   "outputs": [],
   "source": [
    "# 디코딩 부분이 이어집니다. \n",
    "autoencoder.add(Conv2D(8, kernel_size=3, padding='same', activation='relu'))\n",
    "autoencoder.add(UpSampling2D())\n",
    "autoencoder.add(Conv2D(8, kernel_size=3, padding='same', activation='relu'))\n",
    "autoencoder.add(UpSampling2D())\n",
    "autoencoder.add(Conv2D(16, kernel_size=3, activation='relu'))\n",
    "autoencoder.add(UpSampling2D())\n",
    "autoencoder.add(Conv2D(1, kernel_size=3, padding='same', activation='sigmoid'))"
   ]
  },
  {
   "cell_type": "code",
   "execution_count": 10,
   "id": "e2c3ff1a",
   "metadata": {},
   "outputs": [
    {
     "name": "stdout",
     "output_type": "stream",
     "text": [
      "Model: \"sequential\"\n",
      "_________________________________________________________________\n",
      " Layer (type)                Output Shape              Param #   \n",
      "=================================================================\n",
      " conv2d (Conv2D)             (None, 28, 28, 16)        160       \n",
      "                                                                 \n",
      " max_pooling2d (MaxPooling2D  (None, 14, 14, 16)       0         \n",
      " )                                                               \n",
      "                                                                 \n",
      " conv2d_1 (Conv2D)           (None, 14, 14, 8)         1160      \n",
      "                                                                 \n",
      " max_pooling2d_1 (MaxPooling  (None, 7, 7, 8)          0         \n",
      " 2D)                                                             \n",
      "                                                                 \n",
      " conv2d_2 (Conv2D)           (None, 4, 4, 8)           584       \n",
      "                                                                 \n",
      " conv2d_3 (Conv2D)           (None, 4, 4, 8)           584       \n",
      "                                                                 \n",
      " up_sampling2d (UpSampling2D  (None, 8, 8, 8)          0         \n",
      " )                                                               \n",
      "                                                                 \n",
      " conv2d_4 (Conv2D)           (None, 8, 8, 8)           584       \n",
      "                                                                 \n",
      " up_sampling2d_1 (UpSampling  (None, 16, 16, 8)        0         \n",
      " 2D)                                                             \n",
      "                                                                 \n",
      " conv2d_5 (Conv2D)           (None, 14, 14, 16)        1168      \n",
      "                                                                 \n",
      " up_sampling2d_2 (UpSampling  (None, 28, 28, 16)       0         \n",
      " 2D)                                                             \n",
      "                                                                 \n",
      " conv2d_6 (Conv2D)           (None, 28, 28, 1)         145       \n",
      "                                                                 \n",
      "=================================================================\n",
      "Total params: 4,385\n",
      "Trainable params: 4,385\n",
      "Non-trainable params: 0\n",
      "_________________________________________________________________\n"
     ]
    }
   ],
   "source": [
    "# 전체 구조를 확인해 봅니다.\n",
    "autoencoder.summary()"
   ]
  },
  {
   "cell_type": "code",
   "execution_count": 12,
   "id": "02a9e380",
   "metadata": {},
   "outputs": [
    {
     "name": "stdout",
     "output_type": "stream",
     "text": [
      "Epoch 1/50\n"
     ]
    },
    {
     "name": "stderr",
     "output_type": "stream",
     "text": [
      "2024-08-29 09:52:18.368859: I tensorflow/compiler/xla/stream_executor/cuda/cuda_dnn.cc:428] Loaded cuDNN version 8100\n",
      "2024-08-29 09:52:22.051419: I tensorflow/compiler/xla/service/service.cc:173] XLA service 0x7f16deb33b60 initialized for platform CUDA (this does not guarantee that XLA will be used). Devices:\n",
      "2024-08-29 09:52:22.051480: I tensorflow/compiler/xla/service/service.cc:181]   StreamExecutor device (0): NVIDIA GeForce RTX 3060, Compute Capability 8.6\n",
      "2024-08-29 09:52:22.084550: I tensorflow/compiler/mlir/tensorflow/utils/dump_mlir_util.cc:268] disabling MLIR crash reproducer, set env var `MLIR_CRASH_REPRODUCER_DIRECTORY` to enable.\n",
      "2024-08-29 09:52:22.372487: I tensorflow/compiler/jit/xla_compilation_cache.cc:477] Compiled cluster using XLA!  This line is logged at most once for the lifetime of the process.\n"
     ]
    },
    {
     "name": "stdout",
     "output_type": "stream",
     "text": [
      "469/469 [==============================] - 11s 9ms/step - loss: 0.2085 - val_loss: 0.1390\n",
      "Epoch 2/50\n",
      "469/469 [==============================] - 3s 7ms/step - loss: 0.1291 - val_loss: 0.1199\n",
      "Epoch 3/50\n",
      "469/469 [==============================] - 3s 7ms/step - loss: 0.1163 - val_loss: 0.1111\n",
      "Epoch 4/50\n",
      "469/469 [==============================] - 3s 7ms/step - loss: 0.1099 - val_loss: 0.1063\n",
      "Epoch 5/50\n",
      "469/469 [==============================] - 3s 7ms/step - loss: 0.1057 - val_loss: 0.1029\n",
      "Epoch 6/50\n",
      "469/469 [==============================] - 3s 7ms/step - loss: 0.1027 - val_loss: 0.1002\n",
      "Epoch 7/50\n",
      "469/469 [==============================] - 3s 7ms/step - loss: 0.1004 - val_loss: 0.0984\n",
      "Epoch 8/50\n",
      "469/469 [==============================] - 3s 7ms/step - loss: 0.0986 - val_loss: 0.0967\n",
      "Epoch 9/50\n",
      "469/469 [==============================] - 3s 7ms/step - loss: 0.0971 - val_loss: 0.0953\n",
      "Epoch 10/50\n",
      "469/469 [==============================] - 3s 7ms/step - loss: 0.0958 - val_loss: 0.0942\n",
      "Epoch 11/50\n",
      "469/469 [==============================] - 3s 7ms/step - loss: 0.0947 - val_loss: 0.0932\n",
      "Epoch 12/50\n",
      "469/469 [==============================] - 4s 7ms/step - loss: 0.0938 - val_loss: 0.0921\n",
      "Epoch 13/50\n",
      "469/469 [==============================] - 3s 7ms/step - loss: 0.0929 - val_loss: 0.0913\n",
      "Epoch 14/50\n",
      "469/469 [==============================] - 3s 7ms/step - loss: 0.0922 - val_loss: 0.0908\n",
      "Epoch 15/50\n",
      "469/469 [==============================] - 3s 7ms/step - loss: 0.0915 - val_loss: 0.0900\n",
      "Epoch 16/50\n",
      "469/469 [==============================] - 3s 7ms/step - loss: 0.0910 - val_loss: 0.0897\n",
      "Epoch 17/50\n",
      "469/469 [==============================] - 3s 7ms/step - loss: 0.0905 - val_loss: 0.0892\n",
      "Epoch 18/50\n",
      "469/469 [==============================] - 3s 7ms/step - loss: 0.0900 - val_loss: 0.0886\n",
      "Epoch 19/50\n",
      "469/469 [==============================] - 3s 7ms/step - loss: 0.0896 - val_loss: 0.0882\n",
      "Epoch 20/50\n",
      "469/469 [==============================] - 3s 7ms/step - loss: 0.0892 - val_loss: 0.0880\n",
      "Epoch 21/50\n",
      "469/469 [==============================] - 3s 7ms/step - loss: 0.0888 - val_loss: 0.0877\n",
      "Epoch 22/50\n",
      "469/469 [==============================] - 3s 7ms/step - loss: 0.0885 - val_loss: 0.0871\n",
      "Epoch 23/50\n",
      "469/469 [==============================] - 3s 7ms/step - loss: 0.0881 - val_loss: 0.0868\n",
      "Epoch 24/50\n",
      "469/469 [==============================] - 3s 7ms/step - loss: 0.0878 - val_loss: 0.0867\n",
      "Epoch 25/50\n",
      "469/469 [==============================] - 3s 7ms/step - loss: 0.0875 - val_loss: 0.0862\n",
      "Epoch 26/50\n",
      "469/469 [==============================] - 3s 7ms/step - loss: 0.0873 - val_loss: 0.0859\n",
      "Epoch 27/50\n",
      "469/469 [==============================] - 3s 7ms/step - loss: 0.0871 - val_loss: 0.0859\n",
      "Epoch 28/50\n",
      "469/469 [==============================] - 4s 8ms/step - loss: 0.0868 - val_loss: 0.0855\n",
      "Epoch 29/50\n",
      "469/469 [==============================] - 3s 7ms/step - loss: 0.0866 - val_loss: 0.0856\n",
      "Epoch 30/50\n",
      "469/469 [==============================] - 3s 7ms/step - loss: 0.0864 - val_loss: 0.0851\n",
      "Epoch 31/50\n",
      "469/469 [==============================] - 3s 7ms/step - loss: 0.0862 - val_loss: 0.0849\n",
      "Epoch 32/50\n",
      "469/469 [==============================] - 3s 7ms/step - loss: 0.0860 - val_loss: 0.0849\n",
      "Epoch 33/50\n",
      "469/469 [==============================] - 3s 7ms/step - loss: 0.0858 - val_loss: 0.0847\n",
      "Epoch 34/50\n",
      "469/469 [==============================] - 3s 7ms/step - loss: 0.0857 - val_loss: 0.0845\n",
      "Epoch 35/50\n",
      "469/469 [==============================] - 3s 7ms/step - loss: 0.0855 - val_loss: 0.0844\n",
      "Epoch 36/50\n",
      "469/469 [==============================] - 3s 7ms/step - loss: 0.0854 - val_loss: 0.0842\n",
      "Epoch 37/50\n",
      "469/469 [==============================] - 3s 7ms/step - loss: 0.0853 - val_loss: 0.0842\n",
      "Epoch 38/50\n",
      "469/469 [==============================] - 3s 7ms/step - loss: 0.0851 - val_loss: 0.0839\n",
      "Epoch 39/50\n",
      "469/469 [==============================] - 3s 7ms/step - loss: 0.0850 - val_loss: 0.0838\n",
      "Epoch 40/50\n",
      "469/469 [==============================] - 3s 7ms/step - loss: 0.0849 - val_loss: 0.0837\n",
      "Epoch 41/50\n",
      "469/469 [==============================] - 3s 7ms/step - loss: 0.0847 - val_loss: 0.0836\n",
      "Epoch 42/50\n",
      "469/469 [==============================] - 3s 7ms/step - loss: 0.0846 - val_loss: 0.0835\n",
      "Epoch 43/50\n",
      "469/469 [==============================] - 3s 7ms/step - loss: 0.0845 - val_loss: 0.0836\n",
      "Epoch 44/50\n",
      "469/469 [==============================] - 3s 7ms/step - loss: 0.0844 - val_loss: 0.0833\n",
      "Epoch 45/50\n",
      "469/469 [==============================] - 4s 8ms/step - loss: 0.0843 - val_loss: 0.0833\n",
      "Epoch 46/50\n",
      "469/469 [==============================] - 3s 7ms/step - loss: 0.0842 - val_loss: 0.0836\n",
      "Epoch 47/50\n",
      "469/469 [==============================] - 3s 7ms/step - loss: 0.0841 - val_loss: 0.0830\n",
      "Epoch 48/50\n",
      "469/469 [==============================] - 3s 7ms/step - loss: 0.0840 - val_loss: 0.0830\n",
      "Epoch 49/50\n",
      "469/469 [==============================] - 3s 7ms/step - loss: 0.0839 - val_loss: 0.0829\n",
      "Epoch 50/50\n",
      "469/469 [==============================] - 4s 8ms/step - loss: 0.0839 - val_loss: 0.0828\n",
      "313/313 [==============================] - 1s 2ms/step\n"
     ]
    },
    {
     "data": {
      "image/png": "[encoded data removed]",
      "text/plain": [
       "<Figure size 700x200 with 10 Axes>"
      ]
     },
     "metadata": {},
     "output_type": "display_data"
    }
   ],
   "source": [
    "# 컴파일 및 학습을 하는 부분입니다.\n",
    "autoencoder.compile(optimizer='adam', loss='binary_crossentropy')\n",
    "autoencoder.fit(X_train, X_train,\n",
    "               epochs=50, \n",
    "               batch_size=128,\n",
    "               validation_data=(X_test, X_test))\n",
    "\n",
    "# 학습된 결과를 출력하는 부분입니다.\n",
    "# 테스트할 이미지를 랜덤하게 불러옵니다.\n",
    "random_test = np.random.randint(X_test.shape[0], size=5)\n",
    "\n",
    "# 앞서 만든 오토인코더 모델에 집어 넣습니다.\n",
    "ae_imgs = autoencoder.predict(X_test)\n",
    "\n",
    "# 출력될 이미지의 크기를 정합니다.\n",
    "plt.figure(figsize=(7,2))\n",
    "\n",
    "# 랜덤하게 뽑은 이미지를 차례로 나열합니다.\n",
    "for i, image_idx in enumerate(random_test):\n",
    "    ax = plt.subplot(2, 7, i + 1)\n",
    "    \n",
    "    # 테스트할 이미지를 먼저 그대로 보여줍니다.\n",
    "    plt.imshow(X_test[image_idx].reshape(28, 28))\n",
    "    \n",
    "    ax.axis('off')\n",
    "    \n",
    "    ax = plt.subplot(2, 7, 7 + i +1)\n",
    "    \n",
    "    # 오토인코딩 결과를 다음열에 출력합니다.\n",
    "    plt.imshow(ae_imgs[image_idx].reshape(28, 28))\n",
    "    \n",
    "    ax.axis('off')\n",
    "    \n",
    "plt.show()\n"
   ]
  },
  {
   "cell_type": "code",
   "execution_count": null,
   "id": "a01c31d4",
   "metadata": {},
   "outputs": [],
   "source": []
  }
 ],
 "metadata": {
  "kernelspec": {
   "display_name": "Python 3 (ipykernel)",
   "language": "python",
   "name": "python3"
  },
  "language_info": {
   "codemirror_mode": {
    "name": "ipython",
    "version": 3
   },
   "file_extension": ".py",
   "mimetype": "text/x-python",
   "name": "python",
   "nbconvert_exporter": "python",
   "pygments_lexer": "ipython3",
   "version": "3.7.16"
  }
 },
 "nbformat": 4,
 "nbformat_minor": 5
}
