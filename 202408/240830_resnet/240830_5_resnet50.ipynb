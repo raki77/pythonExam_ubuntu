{
 "cells": [
  {
   "cell_type": "code",
   "execution_count": 4,
   "id": "63677b90",
   "metadata": {},
   "outputs": [
    {
     "name": "stdout",
     "output_type": "stream",
     "text": [
      "1/1 [==============================] - 1s 867ms/step\n",
      "예측 결과: [('n02325366', 'wood_rabbit', 0.74275357), ('n02326432', 'hare', 0.240237), ('n02328150', 'Angora', 0.008815741), ('n01877812', 'wallaby', 0.0026892466), ('n02356798', 'fox_squirrel', 0.0012279311)]\n",
      "1/1 [==============================] - 1s 699ms/step\n",
      "예측 결과: [('n02325366', 'wood_rabbit', 0.74275357), ('n02326432', 'hare', 0.240237), ('n02328150', 'Angora', 0.008815741), ('n01877812', 'wallaby', 0.0026892466), ('n02356798', 'fox_squirrel', 0.0012279311)]\n"
     ]
    }
   ],
   "source": [
    "import cv2 as cv \n",
    "import numpy as np\n",
    "from tensorflow.keras.applications.resnet50 import ResNet50,preprocess_input,decode_predictions\n",
    "\n",
    "model=ResNet50(weights='imagenet')\n",
    "\n",
    "img=cv.imread('../data/img/rabbit.jpg') \n",
    "x=np.reshape(cv.resize(img,(224,224)),(1,224,224,3))   \n",
    "x=preprocess_input(x)\n",
    "\n",
    "preds=model.predict(x)\n",
    "top5=decode_predictions(preds,top=5)[0]\n",
    "print('예측 결과:',top5)\n",
    "\n",
    "for i in range(5):\n",
    "    cv.putText(img,top5[i][1]+':'+str(top5[i][2]),(10,20+i*20),cv.FONT_HERSHEY_SIMPLEX,0.5,(0,0,255),1)\n",
    "\n",
    "cv.imshow('Recognition result',img)\n",
    "\n",
    "cv.waitKey()\n",
    "cv.destroyAllWindows()"
   ]
  },
  {
   "cell_type": "code",
   "execution_count": null,
   "id": "77b25ff2",
   "metadata": {},
   "outputs": [],
   "source": [
    "print('dd')"
   ]
  }
 ],
 "metadata": {
  "kernelspec": {
   "display_name": "Python 3 (ipykernel)",
   "language": "python",
   "name": "python3"
  },
  "language_info": {
   "codemirror_mode": {
    "name": "ipython",
    "version": 3
   },
   "file_extension": ".py",
   "mimetype": "text/x-python",
   "name": "python",
   "nbconvert_exporter": "python",
   "pygments_lexer": "ipython3",
   "version": "3.7.16"
  }
 },
 "nbformat": 4,
 "nbformat_minor": 5
}
