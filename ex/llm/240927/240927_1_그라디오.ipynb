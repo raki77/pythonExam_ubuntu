{
 "cells": [
  {
   "cell_type": "code",
   "execution_count": 1,
   "metadata": {},
   "outputs": [
    {
     "name": "stderr",
     "output_type": "stream",
     "text": [
      "c:\\anaconda3\\envs\\dbcon\\lib\\site-packages\\tqdm\\auto.py:21: TqdmWarning: IProgress not found. Please update jupyter and ipywidgets. See https://ipywidgets.readthedocs.io/en/stable/user_install.html\n",
      "  from .autonotebook import tqdm as notebook_tqdm\n"
     ]
    },
    {
     "name": "stdout",
     "output_type": "stream",
     "text": [
      "Running on local URL:  http://127.0.0.1:7861\n",
      "\n",
      "To create a public link, set `share=True` in `launch()`.\n"
     ]
    },
    {
     "data": {
      "text/html": [
       "<div><iframe src=\"http://127.0.0.1:7861/\" width=\"100%\" height=\"500\" allow=\"autoplay; camera; microphone; clipboard-read; clipboard-write;\" frameborder=\"0\" allowfullscreen></iframe></div>"
      ],
      "text/plain": [
       "<IPython.core.display.HTML object>"
      ]
     },
     "metadata": {},
     "output_type": "display_data"
    },
    {
     "data": {
      "text/plain": []
     },
     "execution_count": 1,
     "metadata": {},
     "output_type": "execute_result"
    }
   ],
   "source": [
    "import streamlit as st\n",
    "import gradio as gr\n",
    "import threading\n",
    "import random\n",
    "\n",
    "# Gradio의 채팅 인터페이스를 처리하는 함수\n",
    "def random_response(message, history):\n",
    "    print(\"aaaaaaa\")\n",
    "    products = {\n",
    "        \"적금 상품\": \"111111111111\",\n",
    "        \"대출 상품\": \"222222222222\",\n",
    "        \"신용 카드\": \"33333333333\",\n",
    "        \"예금 상품\": \"444444444444\",\n",
    "        \"주택청약 통장\": \"5555555555555\"\n",
    "    }\n",
    "    greetings = [\n",
    "        \"고객님 안녕하세요.\",\n",
    "        \"고객님 어떤 은행 상품을 안내해드릴까요?\"\n",
    "    ]\n",
    "\n",
    "    response = random.choice(greetings)\n",
    "    if message in products:\n",
    "        response = products[message]\n",
    "\n",
    "    yield response\n",
    "\n",
    "# Gradio ChatInterface 정의\n",
    "demo = gr.ChatInterface(random_response)\n",
    "\n",
    "# Gradio 인터페이스를 백그라운드에서 실행\n",
    "demo.launch(server_name=\"127.0.0.1\", server_port=7861, share=False, prevent_thread_lock=True)\n"
   ]
  }
 ],
 "metadata": {
  "kernelspec": {
   "display_name": "dbcon",
   "language": "python",
   "name": "python3"
  },
  "language_info": {
   "codemirror_mode": {
    "name": "ipython",
    "version": 3
   },
   "file_extension": ".py",
   "mimetype": "text/x-python",
   "name": "python",
   "nbconvert_exporter": "python",
   "pygments_lexer": "ipython3",
   "version": "3.9.19"
  }
 },
 "nbformat": 4,
 "nbformat_minor": 2
}
