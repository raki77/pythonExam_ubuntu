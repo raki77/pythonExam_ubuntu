{
 "cells": [
  {
   "cell_type": "code",
   "execution_count": 4,
   "metadata": {},
   "outputs": [],
   "source": [
    "import numpy as np, cv2\n",
    "\n",
    "#--① 연산에 필요한 영상을 읽고 그레이스케일로 변환\n",
    "img1 = cv2.imread('./pcb-1.png')\n",
    "img2 = cv2.imread('./pcb-2.png')\n",
    "img1_gray = cv2.cvtColor(img1, cv2.COLOR_BGR2GRAY)\n",
    "img2_gray = cv2.cvtColor(img2, cv2.COLOR_BGR2GRAY)\n",
    "\n",
    "#--② 두 영상의 절대값 차 연산\n",
    "diff = cv2.absdiff(img1_gray, img2_gray)\n",
    "\n",
    "#--③ 차 영상을 극대화 하기 위해 쓰레시홀드 처리 및 컬러로 변환\n",
    "_, diff = cv2.threshold(diff, 1, 255, cv2.THRESH_BINARY)\n",
    "diff_red = cv2.cvtColor(diff, cv2.COLOR_GRAY2BGR)\n",
    "diff_red[:,:,2] = 0\n",
    "\n",
    "#--④ 두 번째 이미지에 변화 부분 표시\n",
    "spot = cv2.bitwise_xor(img2, diff_red)\n",
    "\n",
    "#--⑤ 결과 영상 출력\n",
    "# cv2.imshow('img1', img1)\n",
    "# cv2.imshow('img2', img2)\n",
    "cv2.imshow('diff', diff)\n",
    "cv2.imshow('spot', spot)\n",
    "cv2.waitKey()\n",
    "cv2.destroyAllWindows()"
   ]
  },
  {
   "cell_type": "code",
   "execution_count": null,
   "metadata": {},
   "outputs": [],
   "source": []
  }
 ],
 "metadata": {
  "kernelspec": {
   "display_name": "mldltest1",
   "language": "python",
   "name": "python3"
  },
  "language_info": {
   "codemirror_mode": {
    "name": "ipython",
    "version": 3
   },
   "file_extension": ".py",
   "mimetype": "text/x-python",
   "name": "python",
   "nbconvert_exporter": "python",
   "pygments_lexer": "ipython3",
   "version": "3.8.19"
  }
 },
 "nbformat": 4,
 "nbformat_minor": 2
}
