{
 "cells": [
  {
   "cell_type": "code",
   "execution_count": 3,
   "metadata": {},
   "outputs": [
    {
     "name": "stdout",
     "output_type": "stream",
     "text": [
      "Image load failed!\n"
     ]
    },
    {
     "ename": "SystemExit",
     "evalue": "",
     "output_type": "error",
     "traceback": [
      "An exception has occurred, use %tb to see the full traceback.\n",
      "\u001b[1;31mSystemExit\u001b[0m\n"
     ]
    },
    {
     "name": "stderr",
     "output_type": "stream",
     "text": [
      "c:\\anaconda3\\envs\\cv2\\lib\\site-packages\\IPython\\core\\interactiveshell.py:3516: UserWarning: To exit: use 'exit', 'quit', or Ctrl-D.\n",
      "  warn(\"To exit: use 'exit', 'quit', or Ctrl-D.\", stacklevel=1)\n"
     ]
    }
   ],
   "source": [
    "import sys\n",
    "import numpy as np\n",
    "import cv2\n",
    "\n",
    "\n",
    "img = cv2.imread('../data/img/lenna.bmp')\n",
    "\n",
    "if img is None:\n",
    "    print('Image load failed!')\n",
    "    sys.exit()\n",
    "\n",
    "cv2.namedWindow('img')\n",
    "cv2.imshow('img', img)\n",
    "\n",
    "while True:\n",
    "    keycode = cv2.waitKey()\n",
    "    if keycode == ord('i') or keycode == ord('I'):\n",
    "        img = ~img\n",
    "        cv2.imshow('img', img)\n",
    "    elif keycode == 27 or keycode == ord('q') or keycode == ord('Q'):\n",
    "        break\n",
    "\n",
    "cv2.destroyAllWindows()\n"
   ]
  },
  {
   "cell_type": "code",
   "execution_count": null,
   "metadata": {},
   "outputs": [],
   "source": [
    "import sys\n",
    "import numpy as np\n",
    "import cv2\n",
    "\n",
    "\n",
    "def on_mouse(event, x, y, flags, param):\n",
    "    global oldx, oldy\n",
    "\n",
    "    if event == cv2.EVENT_LBUTTONDOWN:\n",
    "        oldx, oldy = x, y\n",
    "        print('EVENT_LBUTTONDOWN: %d, %d' % (x, y))\n",
    "\n",
    "    elif event == cv2.EVENT_LBUTTONUP:\n",
    "        print('EVENT_LBUTTONUP: %d, %d' % (x, y))\n",
    "\n",
    "    elif event == cv2.EVENT_MOUSEMOVE:\n",
    "        if flags & cv2.EVENT_FLAG_LBUTTON:\n",
    "            cv2.line(img, (oldx, oldy), (x, y), (0, 255, 255), 2)\n",
    "            cv2.imshow('img', img)\n",
    "            oldx, oldy = x, y\n",
    "\n",
    "\n",
    "img = cv2.imread('../data/img/lenna.bmp')\n",
    "\n",
    "if img is None:\n",
    "    print('Image load failed!')\n",
    "    sys.exit()\n",
    "\n",
    "cv2.namedWindow('img')\n",
    "cv2.setMouseCallback('img', on_mouse)\n",
    "\n",
    "cv2.imshow('img', img)\n",
    "cv2.waitKey()\n",
    "cv2.destroyAllWindows()\n"
   ]
  },
  {
   "cell_type": "code",
   "execution_count": null,
   "metadata": {},
   "outputs": [],
   "source": [
    "import cv2\n",
    "\n",
    "title = 'mouse event'                   # 창 제목\n",
    "img = cv2.imread('../data/img/lenna.bmp') # 백색 이미지 읽기\n",
    "cv2.imshow(title, img)                  # 백색 이미지 표시\n",
    "\n",
    "colors = {'black':(0,0,0),\n",
    "         'red' : (0,0,255),\n",
    "         'blue':(255,0,0),\n",
    "         'green': (0,255,0),\n",
    "         'yellow': (0,255,255),\n",
    "         } # 색상 미리 정의\n",
    "# 폰트 설정 (폰트 파일 경로와 크기 설정)\n",
    "# fontpath = \"./MALGUN.TTF\"  # TTF 폰트 파일 경로를 지정\n",
    "# try:\n",
    "#     font = ImageFont.truetype(fontpath, 40)  # 폰트 크기를 40으로 설정\n",
    "# except IOError:\n",
    "#     # 폰트 파일을 찾을 수 없을 경우 기본 폰트 사용\n",
    "#     font = ImageFont.load_default()\n",
    "        \n",
    "def onMouse(event, x, y, flags, param): # 아무스 콜백 함수 구현 ---①\n",
    "    print(event, x, y, flags)                # 파라미터 출력\n",
    "    color = colors['black']\n",
    "    if event == cv2.EVENT_LBUTTONDOWN:  # 왼쪽 버튼 누름인 경우 ---②\n",
    "        # 컨트롤키와 쉬프트 키를 모두 누른 경우\n",
    "        if flags & cv2.EVENT_FLAG_CTRLKEY and flags & cv2.EVENT_FLAG_SHIFTKEY : \n",
    "            color = colors['green']\n",
    "        elif flags & cv2.EVENT_FLAG_SHIFTKEY : # 쉬프트 키를 누른 경우\n",
    "            color = colors['blue']\n",
    "        elif flags & cv2.EVENT_FLAG_CTRLKEY : # 컨트롤 키를 누른 경우\n",
    "            color = colors['red']\n",
    "        # 지름 30 크기의 검은색 원을 해당 좌표에 그림\n",
    "        cv2.circle(img, (x,y), 30, color, 5) \n",
    "        cv2.imshow(title, img)          # 그려진 이미지를 다시 표시 ---③\n",
    "    elif event == cv2.EVENT_RBUTTONDOWN :          \n",
    "        color = colors['green']\n",
    "        cv2.putText(img, \"Plain\", (50, 100), cv2.FONT_HERSHEY_PLAIN, 5, color)      \n",
    "        cv2.circle(img, (x,y), 30, color, 5) \n",
    "        cv2.imshow(title, img)          # 그려진 이미지를 다시 표시 ---③\n",
    "    elif event == cv2.EVENT_RBUTTONDBLCLK :  \n",
    "        color = colors['yellow']\n",
    "        cv2.circle(img, (x,y), 50, color, 5) \n",
    "        cv2.imshow(title, img)          # 그려진 이미지를 다시 표시 ---③\n",
    "\n",
    "cv2.setMouseCallback(title, onMouse)    # 마우스 콜백 함수를 GUI 윈도우에 등록 ---④\n",
    "\n",
    "while True:\n",
    "    if cv2.waitKey(0) & 0xFF == 27:     # esc로 종료\n",
    "        break\n",
    "cv2.destroyAllWindows()\n"
   ]
  },
  {
   "cell_type": "code",
   "execution_count": null,
   "metadata": {},
   "outputs": [],
   "source": [
    "import cv2\n",
    "import numpy as np\n",
    "\n",
    "win_name = 'Trackbar'                                   # 창 이름\n",
    "\n",
    "img = cv2.imread('../data/img/lenna.bmp')\n",
    "cv2.imshow(win_name,img)                                # 초기 이미지를 창에 표시\n",
    "\n",
    "# 트랙바 이벤트 처리 함수 선언 ---①\n",
    "def onChange(x):                                        \n",
    "    print(x)                                            # 트랙바 새로운 위치 값 --- ②\n",
    "    # 'R', 'G', 'B' 각 트랙바 위치 값    --- ③\n",
    "    r = cv2.getTrackbarPos('R',win_name)               \n",
    "    g = cv2.getTrackbarPos('G',win_name)               \n",
    "    b = cv2.getTrackbarPos('B',win_name)               \n",
    "    print(r, g, b)\n",
    "    img[:] = [b,g,r]                                    # 기존 이미지에 새로운 픽셀 값 적용 --- ④\n",
    "    cv2.imshow(win_name, img)                           # 새 이미지 창에 표시\n",
    "\n",
    "# 트랙바 생성    --- ⑤\n",
    "cv2.createTrackbar('R', win_name, 255, 255, onChange)  \n",
    "cv2.createTrackbar('G', win_name, 255, 255, onChange)\n",
    "cv2.createTrackbar('B', win_name, 255, 255, onChange)\n",
    "\n",
    "while True:\n",
    "    if cv2.waitKey(1) & 0xFF == 27:\n",
    "        break\n",
    "cv2.destroyAllWindows()        "
   ]
  },
  {
   "cell_type": "code",
   "execution_count": null,
   "metadata": {},
   "outputs": [],
   "source": [
    "import cv2\n",
    "import numpy as np\n",
    "\n",
    "img = np.zeros((120,120, 3), dtype=np.uint8)    # 120x120 2차원 배열 생성, 3채널 컬러 이미지\n",
    "img[25:35, :] = [255,0,0]                       # 25~35행 모든 열에 [255,0,0], 파랑색 할당 \n",
    "img[55:65, :] = [0, 255, 0]                     # 55~65행 모든 열에 [0,255,0], 초록색 할당 \n",
    "img[85:95, :] = [0,0,255]                       # 85~95행 모든 열에 [0,0,255], 빨강색 할당 \n",
    "img[:, 35:45] = [255,255,0]                     # 모든행 35~45 열에 [255,255,0], 하늘색 할당 \n",
    "img[:, 75:85] = [255,0,255]                     # 모든행 75~85 열에 [255,0,255], 분홍색 할당 \n",
    "cv2.imshow('BGR', img)\n",
    "if cv2.waitKey(0) & 0xFF == 27:\n",
    "    cv2.destroyAllWindows()\n"
   ]
  },
  {
   "cell_type": "code",
   "execution_count": null,
   "metadata": {},
   "outputs": [],
   "source": [
    "import cv2\n",
    "import numpy as np\n",
    "\n",
    "img = np.zeros((360,360, 3), dtype=np.uint8)    # 120x120 2차원 배열 생성, 3채널 컬러 이미지\n",
    "img[0:60, :] = [200,150,50]                       # 25~35행 모든 열에 [255,0,0], 파랑색 할당 \n",
    "img[60:120, :] = [200,150,150]                       # 25~35행 모든 열에 [255,0,0], 파랑색 할당 \n",
    "img[120:180, :] = [200,200,0]                       # 25~35행 모든 열에 [255,0,0], 파랑색 할당 \n",
    "img[180:240, :] = [200,0,150]                       # 25~35행 모든 열에 [255,0,0], 파랑색 할당 \n",
    "img[240:300, :] = [255,0,150]                       # 25~35행 모든 열에 [255,0,0], 파랑색 할당 \n",
    "img[300:360, :] = [255,100,100]                       # 25~35행 모든 열에 [255,0,0], 파랑색 할당  \n",
    "img[0:60, 60:120] = [0,20,0]                       # 25~35행 모든 열에 [255,0,0], 파랑색 할당 \n",
    "img[0:60, 240:300] = [255,0,0]                       # 25~35행 모든 열에 [255,0,0], 파랑색 할당 \n",
    "img[240:300, 0:60] = [200,150,50]    \n",
    "img[60:120, 0:60] = [50,0,50]                       # 25~35행 모든 열에 [255,0,0], 파랑색 할당 \n",
    "img[60:120, 60:120] = [200,230,0]                       # 25~35행 모든 열에 [255,0,0], 파랑색 할당 \n",
    "img[60:120, 120:180] = [200,0,100]                       # 25~35행 모든 열에 [255,0,0], 파랑색 할당 \n",
    "img[180:240, 180:240] = [255,0,0]                       # 25~35행 모든 열에 [255,0,0], 파랑색 할당 \n",
    "img[240:300, 240:300] = [100,0,100]                       # 25~35행 모든 열에 [255,0,0], 파랑색 할당 \n",
    "img[300:360:, 300:360] = [100,100,100]                       # 25~35행 모든 열에 [255,0,0], 파랑색 할당 \n",
    "cv2.imshow('BGR', img)\n",
    "if cv2.waitKey(0) & 0xFF == 27:\n",
    "    cv2.destroyAllWindows()"
   ]
  },
  {
   "cell_type": "code",
   "execution_count": null,
   "metadata": {},
   "outputs": [],
   "source": [
    "import cv2\n",
    "import matplotlib.pyplot as plt\n",
    "img = cv2.imread('../data/img/girl.jpg')\n",
    "\n",
    "# BGR을 RGB로 변환\n",
    "img_rgb = cv2.cvtColor(img, cv2.COLOR_BGR2RGB)\n",
    "cv2.waitKey()\n",
    "plt.imshow(img_rgb)\n",
    "plt.show()"
   ]
  },
  {
   "cell_type": "code",
   "execution_count": null,
   "metadata": {},
   "outputs": [],
   "source": [
    "import cv2\n",
    "from matplotlib import pyplot as plt \n",
    "img = cv2.imread('../data/img/girl.jpg') \n",
    "plt.imshow(img[:,:,::-1])       \n",
    "# plt.xticks([])                    \n",
    "# plt.yticks([])                   \n",
    "plt.show()"
   ]
  },
  {
   "cell_type": "code",
   "execution_count": null,
   "metadata": {},
   "outputs": [],
   "source": [
    "import numpy as np\n",
    "\n",
    "arr = np.array([1,2,3,4,5])\n",
    "arr "
   ]
  },
  {
   "cell_type": "code",
   "execution_count": null,
   "metadata": {},
   "outputs": [],
   "source": [
    "arr[:]"
   ]
  },
  {
   "cell_type": "code",
   "execution_count": null,
   "metadata": {},
   "outputs": [],
   "source": [
    "arr[:].ndim"
   ]
  },
  {
   "cell_type": "code",
   "execution_count": null,
   "metadata": {},
   "outputs": [],
   "source": [
    "import numpy as np\n",
    "\n",
    "arr2 = np.array([[1,2,3,4,5],[6,7,8,9,0]])\n",
    "arr2"
   ]
  },
  {
   "cell_type": "code",
   "execution_count": null,
   "metadata": {},
   "outputs": [],
   "source": [
    "arr2.ndim"
   ]
  },
  {
   "cell_type": "code",
   "execution_count": null,
   "metadata": {},
   "outputs": [],
   "source": [
    "arr2[:,:]"
   ]
  },
  {
   "cell_type": "code",
   "execution_count": null,
   "metadata": {},
   "outputs": [],
   "source": [
    "arr2[:1, 1:4]"
   ]
  },
  {
   "cell_type": "code",
   "execution_count": null,
   "metadata": {},
   "outputs": [],
   "source": [
    "np.arange(1, 5+1, 3)"
   ]
  },
  {
   "cell_type": "code",
   "execution_count": null,
   "metadata": {},
   "outputs": [],
   "source": [
    "np.arange(1, 5+1, -1)"
   ]
  },
  {
   "cell_type": "code",
   "execution_count": null,
   "metadata": {},
   "outputs": [],
   "source": [
    "arr2[:1, 1:4]"
   ]
  },
  {
   "cell_type": "code",
   "execution_count": null,
   "metadata": {},
   "outputs": [],
   "source": [
    "arr3 = np.array([\n",
    "    [[1,2,3,4,5],\n",
    "     [11,22,33,44,55]],\n",
    "    [[6,7,8,9,10],\n",
    "     [66,77,88,99,100]],\n",
    "    [[11,12,13,14,15],\n",
    "     [110,120,130,140,150]]\n",
    "])\n",
    "arr3"
   ]
  },
  {
   "cell_type": "code",
   "execution_count": null,
   "metadata": {},
   "outputs": [],
   "source": [
    "arr3.ndim"
   ]
  },
  {
   "cell_type": "code",
   "execution_count": null,
   "metadata": {},
   "outputs": [],
   "source": [
    "arr3[:,:,:]"
   ]
  },
  {
   "cell_type": "code",
   "execution_count": null,
   "metadata": {},
   "outputs": [],
   "source": [
    "arr3[:,:,-1]"
   ]
  },
  {
   "cell_type": "code",
   "execution_count": null,
   "metadata": {},
   "outputs": [],
   "source": [
    "arr3[:,:,(2,1,0)]"
   ]
  },
  {
   "cell_type": "code",
   "execution_count": null,
   "metadata": {},
   "outputs": [],
   "source": [
    "arr3[:,:,(0,1,2)]"
   ]
  },
  {
   "cell_type": "code",
   "execution_count": null,
   "metadata": {},
   "outputs": [],
   "source": [
    "import cv2\n",
    "from matplotlib import pyplot as plt \n",
    "img = cv2.imread('../data/img/girl.jpg') \n",
    "plt.imshow(img[:,:,(1,0,2)])       \n",
    "#plt.imshow(img[:,:,(2,1,0)])       \n",
    "plt.show()"
   ]
  },
  {
   "cell_type": "code",
   "execution_count": null,
   "metadata": {},
   "outputs": [],
   "source": [
    "import cv2\n",
    "import numpy as np\n",
    "\n",
    "img = cv2.imread('../data/img/sunset.jpg')\n",
    "\n",
    "x=320; y=150; w=50; h=50        # roi 좌표\n",
    "roi = img[y:y+h, x:x+w]         # roi 지정        ---①\n",
    "\n",
    "print(roi.shape)                # roi shape, (50,50,3)\n",
    "cv2.rectangle(roi, (0,0), (h-1, w-1), (0,255,0)) # roi 전체에 사각형 그리기 ---②\n",
    "cv2.imshow(\"img\", img)\n",
    "\n",
    "key = cv2.waitKey(0)\n",
    "print(key)\n",
    "cv2.destroyAllWindows()"
   ]
  },
  {
   "cell_type": "code",
   "execution_count": 2,
   "metadata": {},
   "outputs": [],
   "source": [
    "import cv2\n",
    "import numpy as np\n",
    "\n",
    "isDragging = False                      # 마우스 드래그 상태 저장 \n",
    "x0, y0, w, h = -1,-1,-1,-1              # 영역 선택 좌표 저장\n",
    "blue, red = (255,0,0),(0,0,255)         # 색상 값 \n",
    "\n",
    "def onMouse(event,x,y,flags,param):     # 마우스 이벤트 핸들 함수  ---①\n",
    "    global isDragging, x0, y0, img      # 전역변수 참조\n",
    "    if event == cv2.EVENT_LBUTTONDOWN:  # 왼쪽 마우스 버튼 다운, 드래그 시작 ---②\n",
    "        isDragging = True\n",
    "        x0 = x\n",
    "        y0 = y\n",
    "    elif event == cv2.EVENT_MOUSEMOVE:  # 마우스 움직임 ---③\n",
    "        if isDragging:                  # 드래그 진행 중\n",
    "            img_draw = img.copy()       # 사각형 그림 표현을 위한 이미지 복제\n",
    "            cv2.rectangle(img_draw, (x0, y0), (x, y), blue, 2) # 드래그 진행 영역 표시\n",
    "            cv2.imshow('img', img_draw) # 사각형 표시된 그림 화면 출력\n",
    "    elif event == cv2.EVENT_LBUTTONUP:  # 왼쪽 마우스 버튼 업 ---④\n",
    "        if isDragging:                  # 드래그 중지\n",
    "            isDragging = False          \n",
    "            w = x - x0                  # 드래그 영역 폭 계산\n",
    "            h = y - y0                  # 드래그 영역 높이 계산\n",
    "            print(\"x:%d, y:%d, w:%d, h:%d\" % (x0, y0, w, h))\n",
    "            # x, y, w, h = cv2.selectPOI('img', img_draw, True)\n",
    "            if w > 0 and h > 0:         # 폭과 높이가 음수이면 드래그 방향이 옳음 ---⑤\n",
    "                img_draw = img.copy()   # 선택 영역에 사각형 그림을 표시할 이미지 복제\n",
    "                # 선택 영역에 빨간 사각형 표시\n",
    "                cv2.rectangle(img_draw, (x0, y0), (x, y), red, 2) \n",
    "                cv2.imshow('img', img_draw) # 빨간 사각형 그려진 이미지 화면 출력\n",
    "                roi = img[y0:y0+h, x0:x0+w] # 원본 이미지에서 선택 영영만 ROI로 지정 ---⑥\n",
    "                cv2.imshow('cropped', roi)  # ROI 지정 영역을 새창으로 표시\n",
    "                cv2.moveWindow('cropped', 0, 0) # 새창을 화면 좌측 상단에 이동\n",
    "                cv2.imwrite('../data/img/cropped.jpg', roi)   # ROI 영역만 파일로 저장 ---⑦\n",
    "                print(\"croped.\")\n",
    "            else:\n",
    "                cv2.imshow('img', img)  # 드래그 방향이 잘못된 경우 사각형 그림ㅇㅣ 없는 원본 이미지 출력\n",
    "                print(\"좌측 상단에서 우측 하단으로 영역을 드래그 하세요.\")\n",
    "\n",
    "# img = cv2.imread('./sunset.jpg')\n",
    "img = cv2.imread('../../data/img/bbb.png')\n",
    "cv2.imshow('img', img)\n",
    "cv2.setMouseCallback('img', onMouse) # 마우스 이벤트 등록 ---⑧\n",
    "cv2.waitKey()\n",
    "cv2.destroyAllWindows()\n"
   ]
  },
  {
   "cell_type": "code",
   "execution_count": null,
   "metadata": {},
   "outputs": [],
   "source": [
    "import cv2\n",
    "import numpy as np \n",
    "\n",
    "img1 = cv2.imread('../data/img/bbb.png')   \n",
    "img2 = cv2.imread('../data/img/bbb.png', cv2.IMREAD_COLOR)     \n",
    "img3 = cv2.imread('../data/img/bbb.png', cv2.IMREAD_UNCHANGED)  \n",
    "img4 = cv2.imread('../data/img/bbb.png', cv2.IMREAD_GRAYSCALE) \n",
    "print(\" img1:\" , img1.shape , end=\"\")\n",
    "print(\" img2:\" , img2.shape , end=\"\")\n",
    "print(\" img3:\" , img3.shape , end=\"\")\n",
    "print(\" img4:\" , img4.shape)\n",
    "\n",
    "\n",
    "img5 = cv2.imread('../data/img/bbb.png')   \n",
    "img6 = cv2.imread('../data/img/bbb.png', cv2.IMREAD_COLOR)     \n",
    "img7 = cv2.imread('../data/img/bbb.png', cv2.IMREAD_UNCHANGED)  \n",
    "img8 = cv2.imread('../data/img/bbb.png', cv2.IMREAD_GRAYSCALE) \n",
    "print(\" img5:\" , img5.shape , end=\"\")\n",
    "print(\" img6:\" , img6.shape , end=\"\")\n",
    "print(\" img7:\" , img7.shape , end=\"\")\n",
    "print(\" img8:\" , img8.shape) \n",
    "\n",
    "cv2.imshow('img2', img2)\n",
    "cv2.imshow('img3', img3)\n",
    "cv2.imshow('img4', img4)\n",
    "\n",
    "#cv2.imshow('alpha', img3[:,:,3])  # 알파 채널만 표시\n",
    "cv2.moveWindow('img2', 0, 0)\n",
    "cv2.moveWindow('img2', 100, 100)\n",
    "\n",
    "\n",
    "cv2.waitKey(0)\n",
    "cv2.destroyAllWindows()"
   ]
  },
  {
   "cell_type": "code",
   "execution_count": null,
   "metadata": {},
   "outputs": [],
   "source": [
    "import cv2\n",
    "import numpy as np\n",
    "\n",
    "img = cv2.imread('../data/img/bbb.png')\n",
    "\n",
    "img2 = img.astype(np.uint16)                # dtype 변경 ---①\n",
    "b,g,r = cv2.split(img2)                     # 채널 별로 분리 ---②\n",
    "#b,g,r = img2[:,:,0], img2[:,:,1], img2[:,:,2]\n",
    "gray1 = ((b + g + r)/3).astype(np.uint8)    # 평균 값 연산후 dtype 변경 ---③\n",
    "\n",
    "gray2 = cv2.cvtColor(img, cv2.COLOR_BGR2GRAY) # BGR을 그레이 스케일로 변경 ---④\n",
    "cv2.imshow('original', img)\n",
    "cv2.imshow('gray1', gray1)\n",
    "cv2.imshow('gray2', gray2)\n",
    "\n",
    "cv2.waitKey(0)\n",
    "cv2.destroyAllWindows()"
   ]
  },
  {
   "cell_type": "code",
   "execution_count": null,
   "metadata": {},
   "outputs": [],
   "source": [
    "import cv2\n",
    "import numpy as np\n",
    "\n",
    "# Read the image\n",
    "img = cv2.imread('../data/img/bbb.png')\n",
    "\n",
    "# Split the image into its B, G, R channels\n",
    "b, g, r = cv2.split(img)\n",
    "\n",
    "# Manual grayscale conversion by averaging the B, G, and R channels\n",
    "# This is a basic method and does not account for the perceptual differences in color channels.\n",
    "gray1 = ((b + g + r) / 3).astype(np.uint8)\n",
    "\n",
    "# Standard grayscale conversion using cv2.cvtColor\n",
    "# The flag used should be cv2.COLOR_BGR2GRAY instead of cv2.COLOR_BAYER_GR2GRAY for normal images.\n",
    "gray2 = cv2.cvtColor(img, cv2.COLOR_BGR2GRAY)\n",
    "\n",
    "# Display the original image\n",
    "cv2.imshow('original', img)\n",
    "\n",
    "# Display the manually calculated grayscale image\n",
    "cv2.imshow('gray1', gray1)\n",
    "\n",
    "# Display the grayscale image generated using cv2.cvtColor\n",
    "cv2.imshow('gray2', gray2)\n",
    "\n",
    "# Wait for a key press and close all windows\n",
    "cv2.waitKey(0)\n",
    "cv2.destroyAllWindows()\n"
   ]
  },
  {
   "cell_type": "code",
   "execution_count": null,
   "metadata": {},
   "outputs": [],
   "source": [
    "import cv2\n",
    "import numpy as np\n",
    "\n",
    "img = cv2.imread('../data/img/aaa.jpg')\n",
    "\n",
    "img2 = img.astype(np.uint16)                # dtype 변경 ---①\n",
    "b,g,r = cv2.split(img2)                     # 채널 별로 분리 ---②\n",
    "#b,g,r = img2[:,:,0], img2[:,:,1], img2[:,:,2]\n",
    "gray1 = ((b + g + r)/3).astype(np.uint8)    # 평균 값 연산후 dtype 변경 ---③\n",
    "\n",
    "gray2 = cv2.cvtColor(img, cv2.COLOR_BGR2GRAY) # BGR을 그레이 스케일로 변경 ---④\n",
    "cv2.imshow('original', img)\n",
    "cv2.imshow('gray1', gray1)\n",
    "cv2.imshow('gray2', gray2)\n",
    "\n",
    "cv2.waitKey(0)\n",
    "cv2.destroyAllWindows()"
   ]
  },
  {
   "cell_type": "code",
   "execution_count": null,
   "metadata": {},
   "outputs": [],
   "source": [
    "import numpy as np\n",
    "img = cv2.imread('../data/img/bbb.png')\n",
    "b, g, r = cv2.split(img)\n",
    "print(np.max(b+g+r))\n",
    "print(np.min(b+g+r))"
   ]
  },
  {
   "cell_type": "code",
   "execution_count": null,
   "metadata": {},
   "outputs": [],
   "source": [
    "import cv2\n",
    "import numpy as np\n",
    "\n",
    "alpha = 0.5 # 합성에 사용할 알파 값\n",
    "\n",
    "#---① 합성에 사용할 영상 읽기\n",
    "img1 = cv2.imread('../data/img/aaa.jpg')\n",
    "img2 = cv2.imread('../data/img/bbb.png')\n",
    "\n",
    "# ---② NumPy 배열에 수식을 직접 연산해서 알파 블렌딩 적용\n",
    "blended = img1 * alpha + img2 * (1-alpha)\n",
    "blended = blended.astype(np.uint8) # 소수점 발생을 제거하기 위함\n",
    "cv2.imshow('img1 * alpha + img2 * (1-alpha)', blended)\n",
    "\n",
    "# ---③ addWeighted() 함수로 알파 블렌딩 적용\n",
    "dst = cv2.addWeighted(img1, alpha, img2, (1-alpha), 0) \n",
    "cv2.imshow('cv2.addWeighted', dst)\n",
    "\n",
    "cv2.waitKey(0)\n",
    "cv2.destroyAllWindows()"
   ]
  },
  {
   "cell_type": "code",
   "execution_count": null,
   "metadata": {},
   "outputs": [],
   "source": [
    "g"
   ]
  },
  {
   "cell_type": "code",
   "execution_count": null,
   "metadata": {},
   "outputs": [],
   "source": [
    "r"
   ]
  },
  {
   "cell_type": "code",
   "execution_count": null,
   "metadata": {},
   "outputs": [],
   "source": [
    "b+g"
   ]
  },
  {
   "attachments": {
    "image.png": {
     "image/png": "[encoded data removed]"
    }
   },
   "cell_type": "markdown",
   "metadata": {},
   "source": [
    "![image.png](attachment:image.png)"
   ]
  },
  {
   "cell_type": "code",
   "execution_count": null,
   "metadata": {},
   "outputs": [],
   "source": [
    "import cv2\n",
    "import numpy as np\n",
    "\n",
    "#---① BGR 컬러 스페이스로 원색 픽셀 생성\n",
    "red_bgr = np.array([[[0,0,255]]], dtype=np.uint8)   # 빨강 값만 갖는 픽셀\n",
    "green_bgr = np.array([[[0,255,0]]], dtype=np.uint8) # 초록 값만 갖는 픽셀\n",
    "blue_bgr = np.array([[[255,0,0]]], dtype=np.uint8)  # 파랑 값만 갖는 픽셀\n",
    "yellow_bgr = np.array([[[0,255,255]]], dtype=np.uint8) # 노랑 값만 갖는 픽셀\n",
    "\n",
    "#---② BGR 컬러 스페이스를 HSV 컬러 스페이스로 변환\n",
    "red_hsv = cv2.cvtColor(red_bgr, cv2.COLOR_BGR2HSV);\n",
    "green_hsv = cv2.cvtColor(green_bgr, cv2.COLOR_BGR2HSV);\n",
    "blue_hsv = cv2.cvtColor(blue_bgr, cv2.COLOR_BGR2HSV);\n",
    "yellow_hsv = cv2.cvtColor(yellow_bgr, cv2.COLOR_BGR2HSV);\n",
    "\n",
    "#---③ HSV로 변환한 픽셀 출력\n",
    "print(\"red:\", red_hsv)\n",
    "print(\"green:\", green_hsv)\n",
    "print(\"blue\", blue_hsv)\n",
    "print(\"yellow\", yellow_hsv)"
   ]
  },
  {
   "cell_type": "code",
   "execution_count": 2,
   "metadata": {},
   "outputs": [],
   "source": [
    "import cv2\n",
    "import numpy as np\n",
    "\n",
    "# 이미지 읽기\n",
    "img = cv2.imread('../data/img/bbb.png')\n",
    "\n",
    "# 루미넌스 계산\n",
    "gray_luminance = 0.2989 * img[:,:,2] + 0.5870 * img[:,:,1] + 0.1140 * img[:,:,0]\n",
    "gray_luminance = gray_luminance.astype(np.uint8)\n",
    "\n",
    "# OpenCV의 표준 변환과 비교\n",
    "gray_cv = cv2.cvtColor(img, cv2.COLOR_BGR2GRAY)\n",
    "\n",
    "# 이미지 출력\n",
    "cv2.imshow('original', img)\n",
    "cv2.imshow('Luminance Gray', gray_luminance)\n",
    "cv2.imshow('OpenCV Gray', gray_cv)\n",
    "\n",
    "cv2.waitKey(0)\n",
    "cv2.destroyAllWindows()"
   ]
  },
  {
   "attachments": {
    "image.png": {
     "image/png": "[encoded data removed]"
    }
   },
   "cell_type": "markdown",
   "metadata": {},
   "source": [
    "![image.png](attachment:image.png)"
   ]
  },
  {
   "cell_type": "code",
   "execution_count": null,
   "metadata": {},
   "outputs": [],
   "source": [
    "import cv2\n",
    "import numpy as np\n",
    "import matplotlib.pylab as plt\n",
    "\n",
    "#--① 대상 영상으로 그레이 스케일로 읽기\n",
    "img = cv2.imread('../data/img/yate.jpg', cv2.IMREAD_GRAYSCALE)\n",
    "rows, cols = img.shape[:2]\n",
    "\n",
    "#--② 이퀄라이즈 연산을 직접 적용\n",
    "hist = cv2.calcHist([img], [0], None, [256], [0, 256]) #히스토그램 계산\n",
    "cdf = hist.cumsum()                                     # 누적 히스토그램 \n",
    "cdf_m = np.ma.masked_equal(cdf, 0)                      # 0(zero)인 값을 NaN으로 제거\n",
    "cdf_m = (cdf_m - cdf_m.min()) /(rows * cols) * 255      # 이퀄라이즈 히스토그램 계산\n",
    "cdf = np.ma.filled(cdf_m,0).astype('uint8')             # NaN을 다시 0으로 환원\n",
    "print(cdf.shape)\n",
    "img2 = cdf[img]                                         # 히스토그램을 픽셀로 맵핑\n",
    "\n",
    "#--③ OpenCV API로 이퀄라이즈 히스토그램 적용\n",
    "img3 = cv2.equalizeHist(img)\n",
    "\n",
    "#--④ 이퀄라이즈 결과 히스토그램 계산\n",
    "hist2 = cv2.calcHist([img2], [0], None, [256], [0, 256])\n",
    "hist3 = cv2.calcHist([img3], [0], None, [256], [0, 256])\n",
    "\n",
    "#--⑤ 결과 출력\n",
    "cv2.imshow('Before', img)\n",
    "cv2.imshow('Manual', img2)\n",
    "cv2.imshow('cv2.equalizeHist()', img3)\n",
    "hists = {'Before':hist, 'Manual':hist2, 'cv2.equalizeHist()':hist3}\n",
    "for i, (k, v) in enumerate(hists.items()):\n",
    "    plt.subplot(1,3,i+1)\n",
    "    plt.title(k)\n",
    "    plt.plot(v)\n",
    "plt.show()"
   ]
  },
  {
   "cell_type": "code",
   "execution_count": null,
   "metadata": {},
   "outputs": [],
   "source": [
    "import numpy as np, cv2\n",
    "\n",
    "img = cv2.imread('../data/img/bbb.png') #이미지 읽기, BGR 스케일\n",
    "\n",
    "#--① 컬러 스케일을 BGR에서 YUV로 변경\n",
    "img_yuv = cv2.cvtColor(img, cv2.COLOR_BGR2YUV) \n",
    "\n",
    "#--② YUV 컬러 스케일의 첫번째 채널에 대해서 이퀄라이즈 적용\n",
    "# img_yuv[:,:,0] = cv2.equalizeHist(img_yuv[:,:,0]) \n",
    "img_yuv[:,:,0] = cv2.equalizeHist(img_yuv[:,:,0]) \n",
    "\n",
    "#--③ 컬러 스케일을 YUV에서 BGR로 변경\n",
    "img2 = cv2.cvtColor(img_yuv, cv2.COLOR_YUV2BGR) \n",
    "\n",
    "cv2.imshow('Before', img)\n",
    "cv2.imshow('After', img2)\n",
    "cv2.waitKey()\n",
    "cv2.destroyAllWindows()"
   ]
  },
  {
   "cell_type": "code",
   "execution_count": null,
   "metadata": {},
   "outputs": [],
   "source": [
    "import cv2\n",
    "import numpy as np\n",
    "import matplotlib.pylab as plt\n",
    "\n",
    "img = cv2.imread('../data/img/bbb.png', cv2.IMREAD_GRAYSCALE) #이미지를 그레이 스케일로 읽기\n",
    "\n",
    "# --- ① NumPy API로 바이너리 이미지 만들기\n",
    "thresh_np = np.zeros_like(img)   # 원본과 동일한 크기의 0으로 채워진 이미지\n",
    "thresh_np[ img > 127] = 255      # 127 보다 큰 값만 255로 변경\n",
    "\n",
    "# ---② OpenCV API로 바이너리 이미지 만들기\n",
    "ret, thresh_cv = cv2.threshold(img, 127, 255, cv2.THRESH_BINARY) \n",
    "print(ret)  # 127.0, 바이너리 이미지에 사용된 문턱 값 반환\n",
    "\n",
    "# ---③ 원본과 결과물을 matplotlib으로 출력\n",
    "imgs = {'Original': img, 'NumPy API':thresh_np, 'cv2.threshold': thresh_cv}\n",
    "for i , (key, value) in enumerate(imgs.items()):\n",
    "    plt.subplot(1, 3, i+1)\n",
    "    plt.title(key)\n",
    "    plt.imshow(value, cmap='gray')\n",
    "    plt.xticks([]); plt.yticks([])\n",
    "\n",
    "plt.show()\n",
    "\n"
   ]
  },
  {
   "cell_type": "code",
   "execution_count": null,
   "metadata": {},
   "outputs": [],
   "source": [
    "import cv2\n",
    "import numpy as np\n",
    "import matplotlib.pylab as plt\n",
    "\n",
    "img = cv2.imread('../data/img/bbb.png', cv2.IMREAD_GRAYSCALE) #이미지를 그레이 스케일로 읽기\n",
    "thresholds = [80, 100, 120, 140, 150, 170, 190]\n",
    "imgs = {'Original' : img}\n",
    "for t in thresholds:\n",
    "    _, t_img = cv2.threshold(img, t, 255, cv2.THRESH_BINARY) \n",
    "    imgs['t:%d'%t] = t_img\n",
    "\n",
    "for i , (key, value) in enumerate(imgs.items()):\n",
    "    plt.subplot(2, 4, i+1)\n",
    "    plt.title(key)\n",
    "    plt.imshow(value, cmap='gray')\n",
    "    plt.xticks([]); plt.yticks([])\n",
    "\n",
    "plt.show()\n",
    "\n"
   ]
  },
  {
   "cell_type": "markdown",
   "metadata": {},
   "source": [
    "# Threshold_adapted"
   ]
  },
  {
   "cell_type": "code",
   "execution_count": null,
   "metadata": {},
   "outputs": [],
   "source": [
    "import cv2\n",
    "import numpy as np \n",
    "import matplotlib.pyplot as plt \n",
    "\n",
    "blk_size = 9        # 블럭 사이즈\n",
    "C = 5               # 차감 상수 \n",
    "# img = cv2.imread('./test4_02.png', cv2.IMREAD_GRAYSCALE) # 그레이 스케일로  읽기\n",
    "img = cv2.imread('../data/img/bbb.png', cv2.IMREAD_GRAYSCALE) # 그레이 스케일로  읽기\n",
    "\n",
    "# ---① 오츠의 알고리즘으로 단일 경계 값을 전체 이미지에 적용\n",
    "ret, th1 = cv2.threshold(img, 0, 255, cv2.THRESH_BINARY | cv2.THRESH_OTSU)\n",
    "\n",
    "# ---② 어뎁티드 쓰레시홀드를 평균과 가우시안 분포로 각각 적용\n",
    "th2 = cv2.adaptiveThreshold(img, 255, cv2.ADAPTIVE_THRESH_MEAN_C,\n",
    "                                      cv2.THRESH_BINARY, blk_size, C)\n",
    "th3 = cv2.adaptiveThreshold(img, 255, cv2.ADAPTIVE_THRESH_GAUSSIAN_C,\n",
    "                                     cv2.THRESH_BINARY, blk_size, C)\n",
    "# ---③ 결과를 Matplot으로 출력\n",
    "imgs = {\n",
    "        'Original': img, \n",
    "        'Global-Otsu:%d'%ret:th1,  \n",
    "        'Adapted-Mean':th2, \n",
    "        'Adapted-Gaussian': th3\n",
    "}\n",
    "\n",
    "for i, (k, v) in enumerate(imgs.items()):\n",
    "    plt.subplot(2,2,i+1)\n",
    "    plt.title(k)\n",
    "    plt.imshow(v,'gray')\n",
    "    plt.xticks([]),plt.yticks([])\n",
    "plt.show()\n"
   ]
  },
  {
   "cell_type": "code",
   "execution_count": null,
   "metadata": {},
   "outputs": [],
   "source": [
    "import cv2\n",
    "import numpy as np\n",
    "import matplotlib.pylab as plt\n",
    "\n",
    "img = cv2.imread('../data/img/bbb.png', cv2.IMREAD_GRAYSCALE)\n",
    "\n",
    "_, t_bin = cv2.threshold(img, 127, 255, cv2.THRESH_BINARY)\n",
    "_, t_bininv = cv2.threshold(img, 127, 255, cv2.THRESH_BINARY_INV)\n",
    "_, t_truc = cv2.threshold(img, 127, 255, cv2.THRESH_TRUNC)\n",
    "_, t_2zr = cv2.threshold(img, 127, 255, cv2.THRESH_TOZERO)\n",
    "_, t_2zrinv = cv2.threshold(img, 127, 255, cv2.THRESH_TOZERO_INV)\n",
    "\n",
    "imgs = {'origin':img, 'BINARY':t_bin, 'BINARY_INV':t_bininv, \\\n",
    "        'TRUNC':t_truc, 'TOZERO':t_2zr, 'TOZERO_INV':t_2zrinv}\n",
    "        \n",
    "for i, (key, value) in enumerate(imgs.items()):\n",
    "    cv2.imshow(key, value)\n",
    "    if i==3: \n",
    "        print(value[-1, -1])\n",
    "    \n",
    "cv2.waitKey()\n",
    "cv2.destroyAllWindows()\n"
   ]
  },
  {
   "cell_type": "code",
   "execution_count": null,
   "metadata": {},
   "outputs": [],
   "source": [
    "import cv2\n",
    "import numpy as np\n",
    "import matplotlib.pylab as plt\n",
    "\n",
    "img = cv2.imread('../data/img/bbb.png', cv2.IMREAD_GRAYSCALE)\n",
    "\n",
    "_, t_bin = cv2.threshold(img, 127, 255, cv2.THRESH_BINARY)\n",
    "_, t_bininv = cv2.threshold(img, 127, 255, cv2.THRESH_BINARY_INV)\n",
    "_, t_truc = cv2.threshold(img, 127, 255, cv2.THRESH_TRUNC)\n",
    "_, t_2zr = cv2.threshold(img, 127, 255, cv2.THRESH_TOZERO)\n",
    "_, t_2zrinv = cv2.threshold(img, 127, 255, cv2.THRESH_TOZERO_INV)\n",
    "\n",
    "imgs = {\n",
    "    'origin':img, \n",
    "    'BINARY':t_bin, \n",
    "    'BINARY_INV':t_bininv,\n",
    "    'TRUNC':t_truc, \n",
    "    'TOZERO':t_2zr, \n",
    "    'TOZERO_INV':t_2zrinv\n",
    "}\n",
    "        \n",
    "for i, (key, value) in enumerate(imgs.items()):\n",
    "    plt.subplot(2,3, i+1)\n",
    "    plt.title(key)\n",
    "    plt.imshow(value, cmap='gray')\n",
    "    plt.xticks([]);    plt.yticks([])\n",
    "    \n",
    "plt.show()\n"
   ]
  },
  {
   "cell_type": "code",
   "execution_count": null,
   "metadata": {},
   "outputs": [],
   "source": []
  }
 ],
 "metadata": {
  "kernelspec": {
   "display_name": "cv2",
   "language": "python",
   "name": "python3"
  },
  "language_info": {
   "codemirror_mode": {
    "name": "ipython",
    "version": 3
   },
   "file_extension": ".py",
   "mimetype": "text/x-python",
   "name": "python",
   "nbconvert_exporter": "python",
   "pygments_lexer": "ipython3",
   "version": "3.8.19"
  }
 },
 "nbformat": 4,
 "nbformat_minor": 2
}
