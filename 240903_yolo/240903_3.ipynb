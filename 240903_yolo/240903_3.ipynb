{
 "cells": [
  {
   "cell_type": "code",
   "execution_count": null,
   "metadata": {},
   "outputs": [],
   "source": [
    "import cv2\n",
    "import numpy as np\n",
    "img_fg = cv2.imread('./img/mask_hannibal.png', cv2.IMREAD_UNCHANGED)\n",
    "img_bg = cv2.imread('./img/man_face.jpg')\n",
    "img_fg = cv2.resize(img_fg, (348, 287))\n",
    "_, mask = cv2.threshold(img_fg[:,:,2], 10, 255, cv2.THRESH_BINARY)\n",
    "mask_inv = cv2.bitwise_not(mask)\n",
    "i, j = img_bg.shape[:2][0] - img_fg.shape[:2][0], (img_bg.shape[:2][1] // 2) - (img_fg.shape[:2][1] // 2) + 10\n",
    "img_fg = cv2.cvtColor(img_fg, cv2.COLOR_BGRA2BGR)\n",
    "h, w = img_fg.shape[:2]\n",
    "roi = img_bg[i:i+h, j:j+w ]\n",
    "masked_fg = cv2.bitwise_and(img_fg, img_fg, mask=mask)\n",
    "masked_bg = cv2.bitwise_and(roi, roi, mask=mask_inv)\n",
    "added = masked_fg + masked_bg\n",
    "img_bg[i:i+h, j:j+w] = added\n",
    "cv2.imshow('mask', mask)\n",
    "cv2.imshow('mask_inv', mask_inv)\n",
    "cv2.imshow('masked_fg', masked_fg)\n",
    "cv2.imshow('masked_bg', masked_bg)\n",
    "cv2.imshow('added', added)\n",
    "cv2.imshow('result', img_bg)\n",
    "cv2.waitKey()\n",
    "cv2.destroyAllWindows()"
   ]
  }
 ],
 "metadata": {
  "language_info": {
   "name": "python"
  }
 },
 "nbformat": 4,
 "nbformat_minor": 2
}
